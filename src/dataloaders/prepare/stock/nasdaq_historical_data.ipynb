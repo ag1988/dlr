{
 "cells": [
  {
   "cell_type": "markdown",
   "metadata": {},
   "source": [
    "---\n",
    "### Download historical stock market data via `yfinance` lib\n",
    "source : https://www.kaggle.com/code/jacksoncrow/download-nasdaq-historical-data/notebook\n",
    "\n",
    "---"
   ]
  },
  {
   "cell_type": "code",
   "execution_count": 45,
   "metadata": {},
   "outputs": [],
   "source": [
    "# ! pip install yfinance"
   ]
  },
  {
   "cell_type": "code",
   "execution_count": 1,
   "metadata": {},
   "outputs": [],
   "source": [
    "import os, contextlib\n",
    "import numpy as np\n",
    "import pandas as pd\n",
    "%matplotlib inline\n",
    "import matplotlib.pyplot as plt\n",
    "from tqdm.notebook import tqdm\n",
    "\n",
    "import yfinance as yf"
   ]
  },
  {
   "cell_type": "code",
   "execution_count": 2,
   "metadata": {},
   "outputs": [],
   "source": [
    "only_sp500 = True  # only download data for S&P500"
   ]
  },
  {
   "cell_type": "markdown",
   "metadata": {},
   "source": [
    "## Download traded symbols/tickers"
   ]
  },
  {
   "cell_type": "code",
   "execution_count": 252,
   "metadata": {},
   "outputs": [
    {
     "name": "stdout",
     "output_type": "stream",
     "text": [
      "total number of symbols traded = 504\n"
     ]
    }
   ],
   "source": [
    "if only_sp500:\n",
    "    # list of companies with largest market caps\n",
    "    SP500 = pd.read_html('https://en.wikipedia.org/wiki/List_of_S%26P_500_companies')[0]\n",
    "    symbols = SP500['Symbol'].tolist()    \n",
    "else:\n",
    "    # download all NASDAQ traded symbols\n",
    "    data = pd.read_csv(\"http://www.nasdaqtrader.com/dynamic/SymDir/nasdaqtraded.txt\", sep='|')\n",
    "    data_clean = data[data['Test Issue'] == 'N']\n",
    "    symbols = data_clean['NASDAQ Symbol'].tolist()\n",
    "\n",
    "print('total number of symbols traded = {}'.format(len(symbols)))"
   ]
  },
  {
   "cell_type": "code",
   "execution_count": 254,
   "metadata": {},
   "outputs": [
    {
     "name": "stdout",
     "output_type": "stream",
     "text": [
      "['MMM', 'AOS', 'ABT', 'ABBV', 'ABMD', 'ACN', 'ATVI', 'ADM', 'ADBE', 'ADP', 'AAP', 'AES', 'AFL', 'A', 'AIG', 'APD', 'AKAM', 'ALK', 'ALB', 'ARE', 'ALGN', 'ALLE', 'LNT', 'ALL', 'GOOGL', 'GOOG', 'MO', 'AMZN', 'AMCR', 'AMD', 'AEE', 'AAL', 'AEP', 'AXP', 'AMT', 'AWK', 'AMP', 'ABC', 'AME', 'AMGN', 'APH', 'ADI', 'ANSS', 'ANTM', 'AON', 'APA', 'AAPL', 'AMAT', 'APTV', 'ANET', 'AIZ', 'T', 'ATO', 'ADSK', 'AZO', 'AVB', 'AVY', 'BKR', 'BLL', 'BAC', 'BBWI', 'BAX', 'BDX', 'WRB', 'BRK.B', 'BBY', 'BIO', 'TECH', 'BIIB', 'BLK', 'BK', 'BA', 'BKNG', 'BWA', 'BXP', 'BSX', 'BMY', 'AVGO', 'BR', 'BRO', 'BF.B', 'CHRW', 'CDNS', 'CZR', 'CPT', 'CPB', 'COF', 'CAH', 'KMX', 'CCL', 'CARR', 'CTLT', 'CAT', 'CBOE', 'CBRE', 'CDW', 'CE', 'CNC', 'CNP', 'CDAY', 'CERN', 'CF', 'CRL', 'SCHW', 'CHTR', 'CVX', 'CMG', 'CB', 'CHD', 'CI', 'CINF', 'CTAS', 'CSCO', 'C', 'CFG', 'CTXS', 'CLX', 'CME', 'CMS', 'KO', 'CTSH', 'CL', 'CMCSA', 'CMA', 'CAG', 'COP', 'ED', 'STZ', 'CEG', 'COO', 'CPRT', 'GLW', 'CTVA', 'COST', 'CTRA', 'CCI', 'CSX', 'CMI', 'CVS', 'DHI', 'DHR', 'DRI', 'DVA', 'DE', 'DAL', 'XRAY', 'DVN', 'DXCM', 'FANG', 'DLR', 'DFS', 'DISH', 'DIS', 'DG', 'DLTR', 'D', 'DPZ', 'DOV', 'DOW', 'DTE', 'DUK', 'DRE', 'DD', 'DXC', 'EMN', 'ETN', 'EBAY', 'ECL', 'EIX', 'EW', 'EA', 'EMR', 'ENPH', 'ETR', 'EOG', 'EPAM', 'EFX', 'EQIX', 'EQR', 'ESS', 'EL', 'ETSY', 'RE', 'EVRG', 'ES', 'EXC', 'EXPE', 'EXPD', 'EXR', 'XOM', 'FFIV', 'FDS', 'FAST', 'FRT', 'FDX', 'FITB', 'FRC', 'FE', 'FIS', 'FISV', 'FLT', 'FMC', 'F', 'FTNT', 'FTV', 'FBHS', 'FOXA', 'FOX', 'BEN', 'FCX', 'AJG', 'GRMN', 'IT', 'GE', 'GNRC', 'GD', 'GIS', 'GPC', 'GILD', 'GL', 'GPN', 'GM', 'GS', 'GWW', 'HAL', 'HIG', 'HAS', 'HCA', 'PEAK', 'HSIC', 'HSY', 'HES', 'HPE', 'HLT', 'HOLX', 'HD', 'HON', 'HRL', 'HST', 'HWM', 'HPQ', 'HUM', 'HII', 'HBAN', 'IEX', 'IDXX', 'ITW', 'ILMN', 'INCY', 'IR', 'INTC', 'ICE', 'IBM', 'IP', 'IPG', 'IFF', 'INTU', 'ISRG', 'IVZ', 'IPGP', 'IQV', 'IRM', 'JBHT', 'JKHY', 'J', 'JNJ', 'JCI', 'JPM', 'JNPR', 'K', 'KEY', 'KEYS', 'KMB', 'KIM', 'KMI', 'KLAC', 'KHC', 'KR', 'LHX', 'LH', 'LRCX', 'LW', 'LVS', 'LDOS', 'LEN', 'LLY', 'LNC', 'LIN', 'LYV', 'LKQ', 'LMT', 'L', 'LOW', 'LUMN', 'LYB', 'MTB', 'MRO', 'MPC', 'MKTX', 'MAR', 'MMC', 'MLM', 'MAS', 'MA', 'MTCH', 'MKC', 'MCD', 'MCK', 'MDT', 'MRK', 'FB', 'MET', 'MTD', 'MGM', 'MCHP', 'MU', 'MSFT', 'MAA', 'MRNA', 'MHK', 'MOH', 'TAP', 'MDLZ', 'MPWR', 'MNST', 'MCO', 'MS', 'MOS', 'MSI', 'MSCI', 'NDAQ', 'NTAP', 'NFLX', 'NWL', 'NEM', 'NWSA', 'NWS', 'NEE', 'NLSN', 'NKE', 'NI', 'NDSN', 'NSC', 'NTRS', 'NOC', 'NLOK', 'NCLH', 'NRG', 'NUE', 'NVDA', 'NVR', 'NXPI', 'ORLY', 'OXY', 'ODFL', 'OMC', 'OKE', 'ORCL', 'OGN', 'OTIS', 'PCAR', 'PKG', 'PARA', 'PH', 'PAYX', 'PAYC', 'PYPL', 'PENN', 'PNR', 'PEP', 'PKI', 'PFE', 'PM', 'PSX', 'PNW', 'PXD', 'PNC', 'POOL', 'PPG', 'PPL', 'PFG', 'PG', 'PGR', 'PLD', 'PRU', 'PEG', 'PTC', 'PSA', 'PHM', 'PVH', 'QRVO', 'PWR', 'QCOM', 'DGX', 'RL', 'RJF', 'RTX', 'O', 'REG', 'REGN', 'RF', 'RSG', 'RMD', 'RHI', 'ROK', 'ROL', 'ROP', 'ROST', 'RCL', 'SPGI', 'CRM', 'SBAC', 'SLB', 'STX', 'SEE', 'SRE', 'NOW', 'SHW', 'SBNY', 'SPG', 'SWKS', 'SJM', 'SNA', 'SEDG', 'SO', 'LUV', 'SWK', 'SBUX', 'STT', 'STE', 'SYK', 'SIVB', 'SYF', 'SNPS', 'SYY', 'TMUS', 'TROW', 'TTWO', 'TPR', 'TGT', 'TEL', 'TDY', 'TFX', 'TER', 'TSLA', 'TXN', 'TXT', 'TMO', 'TJX', 'TSCO', 'TT', 'TDG', 'TRV', 'TRMB', 'TFC', 'TWTR', 'TYL', 'TSN', 'USB', 'UDR', 'ULTA', 'UAA', 'UA', 'UNP', 'UAL', 'UNH', 'UPS', 'URI', 'UHS', 'VLO', 'VTR', 'VRSN', 'VRSK', 'VZ', 'VRTX', 'VFC', 'VTRS', 'V', 'VNO', 'VMC', 'WAB', 'WMT', 'WBA', 'WBD', 'WM', 'WAT', 'WEC', 'WFC', 'WELL', 'WST', 'WDC', 'WRK', 'WY', 'WHR', 'WMB', 'WTW', 'WYNN', 'XEL', 'XYL', 'YUM', 'ZBRA', 'ZBH', 'ZION', 'ZTS']\n"
     ]
    }
   ],
   "source": [
    "print(symbols)"
   ]
  },
  {
   "cell_type": "code",
   "execution_count": 138,
   "metadata": {},
   "outputs": [
    {
     "data": {
      "text/html": [
       "<div>\n",
       "<style scoped>\n",
       "    .dataframe tbody tr th:only-of-type {\n",
       "        vertical-align: middle;\n",
       "    }\n",
       "\n",
       "    .dataframe tbody tr th {\n",
       "        vertical-align: top;\n",
       "    }\n",
       "\n",
       "    .dataframe thead th {\n",
       "        text-align: right;\n",
       "    }\n",
       "</style>\n",
       "<table border=\"1\" class=\"dataframe\">\n",
       "  <thead>\n",
       "    <tr style=\"text-align: right;\">\n",
       "      <th></th>\n",
       "      <th>Nasdaq Traded</th>\n",
       "      <th>Symbol</th>\n",
       "      <th>Security Name</th>\n",
       "      <th>Listing Exchange</th>\n",
       "      <th>Market Category</th>\n",
       "      <th>ETF</th>\n",
       "      <th>Round Lot Size</th>\n",
       "      <th>Test Issue</th>\n",
       "      <th>Financial Status</th>\n",
       "      <th>CQS Symbol</th>\n",
       "      <th>NASDAQ Symbol</th>\n",
       "      <th>NextShares</th>\n",
       "    </tr>\n",
       "  </thead>\n",
       "  <tbody>\n",
       "    <tr>\n",
       "      <th>0</th>\n",
       "      <td>Y</td>\n",
       "      <td>A</td>\n",
       "      <td>Agilent Technologies, Inc. Common Stock</td>\n",
       "      <td>N</td>\n",
       "      <td></td>\n",
       "      <td>N</td>\n",
       "      <td>100.0</td>\n",
       "      <td>N</td>\n",
       "      <td>NaN</td>\n",
       "      <td>A</td>\n",
       "      <td>A</td>\n",
       "      <td>N</td>\n",
       "    </tr>\n",
       "    <tr>\n",
       "      <th>1</th>\n",
       "      <td>Y</td>\n",
       "      <td>AA</td>\n",
       "      <td>Alcoa Corporation Common Stock</td>\n",
       "      <td>N</td>\n",
       "      <td></td>\n",
       "      <td>N</td>\n",
       "      <td>100.0</td>\n",
       "      <td>N</td>\n",
       "      <td>NaN</td>\n",
       "      <td>AA</td>\n",
       "      <td>AA</td>\n",
       "      <td>N</td>\n",
       "    </tr>\n",
       "    <tr>\n",
       "      <th>2</th>\n",
       "      <td>Y</td>\n",
       "      <td>AAA</td>\n",
       "      <td>Listed Funds Trust AAF First Priority CLO Bond...</td>\n",
       "      <td>P</td>\n",
       "      <td></td>\n",
       "      <td>Y</td>\n",
       "      <td>100.0</td>\n",
       "      <td>N</td>\n",
       "      <td>NaN</td>\n",
       "      <td>AAA</td>\n",
       "      <td>AAA</td>\n",
       "      <td>N</td>\n",
       "    </tr>\n",
       "    <tr>\n",
       "      <th>3</th>\n",
       "      <td>Y</td>\n",
       "      <td>AAAU</td>\n",
       "      <td>Goldman Sachs Physical Gold ETF Shares</td>\n",
       "      <td>Z</td>\n",
       "      <td></td>\n",
       "      <td>Y</td>\n",
       "      <td>100.0</td>\n",
       "      <td>N</td>\n",
       "      <td>NaN</td>\n",
       "      <td>AAAU</td>\n",
       "      <td>AAAU</td>\n",
       "      <td>N</td>\n",
       "    </tr>\n",
       "    <tr>\n",
       "      <th>4</th>\n",
       "      <td>Y</td>\n",
       "      <td>AAC</td>\n",
       "      <td>Ares Acquisition Corporation Class A Ordinary ...</td>\n",
       "      <td>N</td>\n",
       "      <td></td>\n",
       "      <td>N</td>\n",
       "      <td>100.0</td>\n",
       "      <td>N</td>\n",
       "      <td>NaN</td>\n",
       "      <td>AAC</td>\n",
       "      <td>AAC</td>\n",
       "      <td>N</td>\n",
       "    </tr>\n",
       "    <tr>\n",
       "      <th>...</th>\n",
       "      <td>...</td>\n",
       "      <td>...</td>\n",
       "      <td>...</td>\n",
       "      <td>...</td>\n",
       "      <td>...</td>\n",
       "      <td>...</td>\n",
       "      <td>...</td>\n",
       "      <td>...</td>\n",
       "      <td>...</td>\n",
       "      <td>...</td>\n",
       "      <td>...</td>\n",
       "      <td>...</td>\n",
       "    </tr>\n",
       "    <tr>\n",
       "      <th>12141</th>\n",
       "      <td>Y</td>\n",
       "      <td>ZWS</td>\n",
       "      <td>Zurn Water Solutions Corporation Common Stock</td>\n",
       "      <td>N</td>\n",
       "      <td></td>\n",
       "      <td>N</td>\n",
       "      <td>100.0</td>\n",
       "      <td>N</td>\n",
       "      <td>NaN</td>\n",
       "      <td>ZWS</td>\n",
       "      <td>ZWS</td>\n",
       "      <td>N</td>\n",
       "    </tr>\n",
       "    <tr>\n",
       "      <th>12146</th>\n",
       "      <td>Y</td>\n",
       "      <td>ZY</td>\n",
       "      <td>Zymergen Inc. - Common Stock</td>\n",
       "      <td>Q</td>\n",
       "      <td>Q</td>\n",
       "      <td>N</td>\n",
       "      <td>100.0</td>\n",
       "      <td>N</td>\n",
       "      <td>N</td>\n",
       "      <td>NaN</td>\n",
       "      <td>ZY</td>\n",
       "      <td>N</td>\n",
       "    </tr>\n",
       "    <tr>\n",
       "      <th>12147</th>\n",
       "      <td>Y</td>\n",
       "      <td>ZYME</td>\n",
       "      <td>Zymeworks Inc. Common Shares</td>\n",
       "      <td>N</td>\n",
       "      <td></td>\n",
       "      <td>N</td>\n",
       "      <td>100.0</td>\n",
       "      <td>N</td>\n",
       "      <td>NaN</td>\n",
       "      <td>ZYME</td>\n",
       "      <td>ZYME</td>\n",
       "      <td>N</td>\n",
       "    </tr>\n",
       "    <tr>\n",
       "      <th>12148</th>\n",
       "      <td>Y</td>\n",
       "      <td>ZYNE</td>\n",
       "      <td>Zynerba Pharmaceuticals, Inc. - Common Stock</td>\n",
       "      <td>Q</td>\n",
       "      <td>G</td>\n",
       "      <td>N</td>\n",
       "      <td>100.0</td>\n",
       "      <td>N</td>\n",
       "      <td>N</td>\n",
       "      <td>NaN</td>\n",
       "      <td>ZYNE</td>\n",
       "      <td>N</td>\n",
       "    </tr>\n",
       "    <tr>\n",
       "      <th>12149</th>\n",
       "      <td>Y</td>\n",
       "      <td>ZYXI</td>\n",
       "      <td>Zynex, Inc. - Common Stock</td>\n",
       "      <td>Q</td>\n",
       "      <td>Q</td>\n",
       "      <td>N</td>\n",
       "      <td>100.0</td>\n",
       "      <td>N</td>\n",
       "      <td>N</td>\n",
       "      <td>NaN</td>\n",
       "      <td>ZYXI</td>\n",
       "      <td>N</td>\n",
       "    </tr>\n",
       "  </tbody>\n",
       "</table>\n",
       "<p>12116 rows × 12 columns</p>\n",
       "</div>"
      ],
      "text/plain": [
       "      Nasdaq Traded Symbol                                      Security Name  \\\n",
       "0                 Y      A            Agilent Technologies, Inc. Common Stock   \n",
       "1                 Y     AA                    Alcoa Corporation Common Stock    \n",
       "2                 Y    AAA  Listed Funds Trust AAF First Priority CLO Bond...   \n",
       "3                 Y   AAAU             Goldman Sachs Physical Gold ETF Shares   \n",
       "4                 Y    AAC  Ares Acquisition Corporation Class A Ordinary ...   \n",
       "...             ...    ...                                                ...   \n",
       "12141             Y    ZWS      Zurn Water Solutions Corporation Common Stock   \n",
       "12146             Y     ZY                       Zymergen Inc. - Common Stock   \n",
       "12147             Y   ZYME                       Zymeworks Inc. Common Shares   \n",
       "12148             Y   ZYNE       Zynerba Pharmaceuticals, Inc. - Common Stock   \n",
       "12149             Y   ZYXI                         Zynex, Inc. - Common Stock   \n",
       "\n",
       "      Listing Exchange Market Category ETF  Round Lot Size Test Issue  \\\n",
       "0                    N                   N           100.0          N   \n",
       "1                    N                   N           100.0          N   \n",
       "2                    P                   Y           100.0          N   \n",
       "3                    Z                   Y           100.0          N   \n",
       "4                    N                   N           100.0          N   \n",
       "...                ...             ...  ..             ...        ...   \n",
       "12141                N                   N           100.0          N   \n",
       "12146                Q               Q   N           100.0          N   \n",
       "12147                N                   N           100.0          N   \n",
       "12148                Q               G   N           100.0          N   \n",
       "12149                Q               Q   N           100.0          N   \n",
       "\n",
       "      Financial Status CQS Symbol NASDAQ Symbol NextShares  \n",
       "0                  NaN          A             A          N  \n",
       "1                  NaN         AA            AA          N  \n",
       "2                  NaN        AAA           AAA          N  \n",
       "3                  NaN       AAAU          AAAU          N  \n",
       "4                  NaN        AAC           AAC          N  \n",
       "...                ...        ...           ...        ...  \n",
       "12141              NaN        ZWS           ZWS          N  \n",
       "12146                N        NaN            ZY          N  \n",
       "12147              NaN       ZYME          ZYME          N  \n",
       "12148                N        NaN          ZYNE          N  \n",
       "12149                N        NaN          ZYXI          N  \n",
       "\n",
       "[12116 rows x 12 columns]"
      ]
     },
     "execution_count": 138,
     "metadata": {},
     "output_type": "execute_result"
    }
   ],
   "source": [
    "# data = pd.read_csv(\"http://www.nasdaqtrader.com/dynamic/SymDir/nasdaqtraded.txt\", sep='|')\n",
    "# data = data[data['Test Issue'] == 'N']\n",
    "data"
   ]
  },
  {
   "cell_type": "markdown",
   "metadata": {},
   "source": [
    "## Configs"
   ]
  },
  {
   "cell_type": "code",
   "execution_count": 39,
   "metadata": {},
   "outputs": [],
   "source": [
    "if only_sp500:\n",
    "    offset = 0       # start index in the list \"symbols\"\n",
    "    limit = len(symbols)  # only symbols[offset:offset+limit] downloaded\n",
    "    period = 'max'   # 1d,5d,1mo,3mo,6mo,1y,2y,5y,10y,ytd,max\n",
    "    interval = '1d'  # 1m,2m,5m,15m,30m,60m,90m,1h,1d,5d,1wk,1mo,3mo\n",
    "else:\n",
    "    offset = 0       \n",
    "    limit = 3000     \n",
    "    period = 'max'   \n",
    "    interval = '1d'\n",
    "    \n",
    "if interval == '1h':\n",
    "    assert period == '730d'\n",
    "    \n",
    "if interval == '2m':\n",
    "    assert period == '60d'"
   ]
  },
  {
   "cell_type": "code",
   "execution_count": 40,
   "metadata": {},
   "outputs": [],
   "source": [
    "interval = '2m'\n",
    "period = '60d'"
   ]
  },
  {
   "cell_type": "code",
   "execution_count": 199,
   "metadata": {},
   "outputs": [],
   "source": [
    "# create download direc\n",
    "# ! mkdir -p ../../../../data/stock/day\n",
    "# ! mkdir -p ../../../../data/stock/minute"
   ]
  },
  {
   "cell_type": "code",
   "execution_count": null,
   "metadata": {},
   "outputs": [],
   "source": [
    "os.makedirs(exist_ok=True)"
   ]
  },
  {
   "cell_type": "markdown",
   "metadata": {},
   "source": [
    "## Download Historic data"
   ]
  },
  {
   "cell_type": "code",
   "execution_count": 46,
   "metadata": {
    "scrolled": true
   },
   "outputs": [
    {
     "data": {
      "application/vnd.jupyter.widget-view+json": {
       "model_id": "76af360f54874f3e8144dde95b869fb8",
       "version_major": 2,
       "version_minor": 0
      },
      "text/plain": [
       "HBox(children=(FloatProgress(value=0.0, layout=Layout(flex='2'), max=504.0), HTML(value='')), layout=Layout(di…"
      ]
     },
     "metadata": {},
     "output_type": "display_data"
    }
   ],
   "source": [
    "limit = limit if limit else len(symbols)\n",
    "end = min(offset + limit, len(symbols))\n",
    "is_valid = [False] * len(symbols)\n",
    "# force silencing of verbose API\n",
    "with open(os.devnull, 'w') as devnull:\n",
    "    with contextlib.redirect_stdout(devnull):\n",
    "        pbar = tqdm(range(offset, limit), ncols=650)\n",
    "        for i in pbar:\n",
    "            s = symbols[i]\n",
    "            data = yf.download(s, period=period, interval=interval)\n",
    "            orig_size = len(data)\n",
    "            data.dropna(inplace=True)   # instead of imputing, we drop rows with NaNs\n",
    "            if not len(data):\n",
    "                continue\n",
    "            is_valid[i] = True\n",
    "            pbar.set_description(f'[keeping {s} {(len(data)*100)//orig_size}%] \\t  [total valid symbols = {sum(is_valid)}]  ')\n",
    "            data.index.names = ['date']\n",
    "            data.reset_index(inplace=True)\n",
    "            data.columns = map(str.lower, data.columns)\n",
    "            data.sort_values(by='date', inplace=True)\n",
    "            # data.to_csv('./stock_data/day/{}.csv'.format(s))\n",
    "            # data.to_csv('../../../../data/stock/minute/{}.csv'.format(s))"
   ]
  },
  {
   "cell_type": "code",
   "execution_count": 3,
   "metadata": {},
   "outputs": [
    {
     "name": "stdout",
     "output_type": "stream",
     "text": [
      "[*********************100%***********************]  1 of 1 completed\n"
     ]
    },
    {
     "data": {
      "text/plain": [
       "<AxesSubplot:>"
      ]
     },
     "execution_count": 3,
     "metadata": {},
     "output_type": "execute_result"
    },
    {
     "data": {
      "image/png": "[encoded data removed]",
      "text/plain": [
       "<Figure size 432x288 with 1 Axes>"
      ]
     },
     "metadata": {
      "needs_background": "light"
     },
     "output_type": "display_data"
    }
   ],
   "source": [
    "data = yf.download('aapl', period=\"max\", interval=\"1d\", end='2022-04-20')\n",
    "# data = yf.download('aapl', period=\"730d\", interval=\"1h\")\n",
    "# data = yf.download('aapl', period=\"60d\", interval=\"2m\")\n",
    "data.dropna(inplace=True) \n",
    "data.index.names = ['date']\n",
    "data['return'] = data['Close'].pct_change()\n",
    "data.reset_index(inplace=True)\n",
    "data.columns = map(str.lower, data.columns)\n",
    "data.sort_values(by='date', inplace=True)\n",
    "\n",
    "# print(data)\n",
    "# data['close'].diff().plot(style='.')\n",
    "data['close'].pct_change().plot(style='.')\n",
    "# np.log(data['close']).plot(style='-')\n",
    "# data['close'].diff().plot(style='-')"
   ]
  },
  {
   "cell_type": "code",
   "execution_count": 262,
   "metadata": {},
   "outputs": [
    {
     "data": {
      "text/plain": [
       "<matplotlib.axes._subplots.AxesSubplot at 0x7f6139db6250>"
      ]
     },
     "execution_count": 262,
     "metadata": {},
     "output_type": "execute_result"
    },
    {
     "data": {
      "image/png": "[encoded data removed]",
      "text/plain": [
       "<Figure size 432x288 with 1 Axes>"
      ]
     },
     "metadata": {
      "needs_background": "light"
     },
     "output_type": "display_data"
    }
   ],
   "source": [
    "data['close'].diff().dropna()[:-2000].hist(bins=100)\n",
    "data['close'].diff().dropna()[-2000:].hist(bins=100)\n",
    "\n",
    "# data['close'].pct_change().dropna()[:-2000].hist(bins=100)\n",
    "# data['close'].pct_change().dropna()[-2000:].hist(bins=100)"
   ]
  },
  {
   "cell_type": "code",
   "execution_count": 276,
   "metadata": {},
   "outputs": [
    {
     "name": "stdout",
     "output_type": "stream",
     "text": [
      "[5093, 2547, 5093]\n"
     ]
    },
    {
     "data": {
      "text/plain": [
       "'TODO: what happens when we take fft of first window and then invert it on a future window? - this might explain ssm'"
      ]
     },
     "execution_count": 276,
     "metadata": {},
     "output_type": "execute_result"
    },
    {
     "data": {
      "image/png": "[encoded data removed]",
      "text/plain": [
       "<Figure size 432x288 with 1 Axes>"
      ]
     },
     "metadata": {
      "needs_background": "light"
     },
     "output_type": "display_data"
    }
   ],
   "source": [
    "# change: truncation doesn't work well on change\n",
    "# high: truncation mostly does well except on end points\n",
    "l = data.close\n",
    "# l = data['close'].pct_change().dropna()\n",
    "# l = data['close'].diff().dropna()\n",
    "fourier = np.fft.rfft(l)  \n",
    "l_ = np.fft.irfft(fourier[:300], n=len(l)).real\n",
    "print([len(x) for x in (l, fourier, l_)])\n",
    "# np.isclose(l,l_).all()\n",
    "plt.plot(l)\n",
    "plt.plot(l_)#, '--', lw=2)\n",
    "\n",
    "'''TODO: what happens when we take fft of first window and then invert it on a future window? - this might explain ssm'''"
   ]
  },
  {
   "cell_type": "code",
   "execution_count": 224,
   "metadata": {},
   "outputs": [
    {
     "name": "stderr",
     "output_type": "stream",
     "text": [
      "/dccstor/comp-gen/ag1988/miniconda3/envs/torch17/lib/python3.7/site-packages/matplotlib/cbook/__init__.py:1317: ComplexWarning: Casting complex values to real discards the imaginary part\n",
      "  return np.asarray(x, float)\n"
     ]
    },
    {
     "data": {
      "text/plain": [
       "[<matplotlib.lines.Line2D at 0x7f613b6b6ed0>]"
      ]
     },
     "execution_count": 224,
     "metadata": {},
     "output_type": "execute_result"
    },
    {
     "data": {
      "image/png": "[encoded data removed]",
      "text/plain": [
       "<Figure size 432x288 with 1 Axes>"
      ]
     },
     "metadata": {
      "needs_background": "light"
     },
     "output_type": "display_data"
    }
   ],
   "source": [
    "plt.plot(np.fft.rfft(l), '--')\n",
    "# plt.plot(np.fft.fft(l).imag)\n",
    "# plt.plot(np.fft.rfft(l).imag, '--')"
   ]
  },
  {
   "cell_type": "code",
   "execution_count": 228,
   "metadata": {},
   "outputs": [
    {
     "data": {
      "text/plain": [
       "array([2.])"
      ]
     },
     "execution_count": 228,
     "metadata": {},
     "output_type": "execute_result"
    }
   ],
   "source": [
    "np.random.rand(1).clip(min=2)"
   ]
  },
  {
   "cell_type": "code",
   "execution_count": 36,
   "metadata": {},
   "outputs": [
    {
     "name": "stderr",
     "output_type": "stream",
     "text": [
      "/dccstor/comp-gen/ag1988/miniconda3/envs/torch17/lib/python3.7/site-packages/matplotlib/cbook/__init__.py:1317: ComplexWarning: Casting complex values to real discards the imaginary part\n",
      "  return np.asarray(x, float)\n"
     ]
    },
    {
     "data": {
      "text/plain": [
       "[<matplotlib.lines.Line2D at 0x7f615440c050>]"
      ]
     },
     "execution_count": 36,
     "metadata": {},
     "output_type": "execute_result"
    },
    {
     "data": {
      "image/png": "[encoded data removed]",
      "text/plain": [
       "<Figure size 432x288 with 1 Axes>"
      ]
     },
     "metadata": {
      "needs_background": "light"
     },
     "output_type": "display_data"
    }
   ],
   "source": [
    "plt.plot(np.fft.rfft(data.high))"
   ]
  },
  {
   "cell_type": "code",
   "execution_count": 30,
   "metadata": {},
   "outputs": [],
   "source": [
    "def cutoff_dates(all_dates, split_sizes=[0.95,.025,.025]):\n",
    "    \"\"\" Determines dates for a temporal split according to split_sizes.\n",
    "        all_dates: list of dataframes with a 'date' column.\n",
    "        returns date ranges for train, val, test.\n",
    "    \"\"\"\n",
    "    all_dates = pd.concat(all_dates)\n",
    "    all_dates['date'] = pd.to_datetime(all_dates['date'])\n",
    "    all_dates.sort_values(by=['date'], inplace=True, ascending=True)\n",
    "    all_dates.reset_index(drop=True, inplace=True)\n",
    "    n = len(all_dates)\n",
    "    # train - val - test\n",
    "    train_start = 0\n",
    "    train_end = val_start = train_start + int(n * split_sizes[0])  # excl                           \n",
    "    val_end = test_start = val_start + int(n * split_sizes[1])\n",
    "    test_end = min(test_start + int(n * split_sizes[2]), n-1)\n",
    "    \n",
    "    date_start = [all_dates.date.iloc[idx] for idx in [train_start, val_start, test_start]]\n",
    "    date_end = [all_dates.date.iloc[idx] for idx in [train_end, val_end, test_end]]\n",
    "    \n",
    "    return date_start, date_end"
   ]
  },
  {
   "cell_type": "code",
   "execution_count": 33,
   "metadata": {},
   "outputs": [],
   "source": [
    "# cutoffs = cutoff_dates(all_dates)"
   ]
  },
  {
   "cell_type": "code",
   "execution_count": 59,
   "metadata": {},
   "outputs": [],
   "source": [
    "# import glob\n",
    "\n",
    "# all_dates = []\n",
    "data = []\n",
    "for file_path in sorted(glob.glob(f'../../../../data/stock/day/*.csv'))[:1]:\n",
    "    df_raw = pd.read_csv(file_path)\n",
    "    assert not df_raw.isnull().any().any(), 'data should already be imputed'\n",
    "    # all_dates.append(df_raw[[\"date\"]].copy())\n",
    "    data.append(df_raw)\n",
    "    \n",
    "data = data[0]"
   ]
  },
  {
   "cell_type": "code",
   "execution_count": 69,
   "metadata": {},
   "outputs": [
    {
     "data": {
      "text/html": [
       "<div>\n",
       "<style scoped>\n",
       "    .dataframe tbody tr th:only-of-type {\n",
       "        vertical-align: middle;\n",
       "    }\n",
       "\n",
       "    .dataframe tbody tr th {\n",
       "        vertical-align: top;\n",
       "    }\n",
       "\n",
       "    .dataframe thead th {\n",
       "        text-align: right;\n",
       "    }\n",
       "</style>\n",
       "<table border=\"1\" class=\"dataframe\">\n",
       "  <thead>\n",
       "    <tr style=\"text-align: right;\">\n",
       "      <th></th>\n",
       "      <th>Unnamed: 0</th>\n",
       "      <th>date</th>\n",
       "      <th>open</th>\n",
       "      <th>high</th>\n",
       "      <th>low</th>\n",
       "      <th>close</th>\n",
       "      <th>adj close</th>\n",
       "      <th>volume</th>\n",
       "    </tr>\n",
       "  </thead>\n",
       "  <tbody>\n",
       "    <tr>\n",
       "      <th>3</th>\n",
       "      <td>3</td>\n",
       "      <td>1999-11-23</td>\n",
       "      <td>30.400572</td>\n",
       "      <td>31.205294</td>\n",
       "      <td>28.612303</td>\n",
       "      <td>28.612303</td>\n",
       "      <td>24.567413</td>\n",
       "      <td>5975611</td>\n",
       "    </tr>\n",
       "  </tbody>\n",
       "</table>\n",
       "</div>"
      ],
      "text/plain": [
       "   Unnamed: 0        date       open       high        low      close  \\\n",
       "3           3  1999-11-23  30.400572  31.205294  28.612303  28.612303   \n",
       "\n",
       "   adj close   volume  \n",
       "3  24.567413  5975611  "
      ]
     },
     "execution_count": 69,
     "metadata": {},
     "output_type": "execute_result"
    }
   ],
   "source": [
    "data[3:4]"
   ]
  },
  {
   "cell_type": "code",
   "execution_count": 67,
   "metadata": {},
   "outputs": [
    {
     "name": "stdout",
     "output_type": "stream",
     "text": [
      "5234\n",
      "203\n",
      "202\n"
     ]
    },
    {
     "data": {
      "text/plain": [
       "5639"
      ]
     },
     "execution_count": 67,
     "metadata": {},
     "output_type": "execute_result"
    }
   ],
   "source": [
    "# data['date'] = pd.to_datetime(data['date'])\n",
    "for i in range(3):\n",
    "    print(pd.to_datetime(data['date']).between(cutoffs[0][i], cutoffs[1][i], inclusive='left').sum())\n",
    "    \n",
    "5234 + 203 + 202"
   ]
  },
  {
   "cell_type": "code",
   "execution_count": 72,
   "metadata": {},
   "outputs": [],
   "source": [
    "import torch\n",
    "from torch.utils.data import Dataset, ConcatDataset, DataLoader"
   ]
  },
  {
   "cell_type": "code",
   "execution_count": 76,
   "metadata": {},
   "outputs": [
    {
     "data": {
      "application/vnd.jupyter.widget-view+json": {
       "model_id": "71aee5586d954d468ad1f3b6c5bb5176",
       "version_major": 2,
       "version_minor": 0
      },
      "text/plain": [
       "HBox(children=(FloatProgress(value=0.0, max=10.0), HTML(value='')))"
      ]
     },
     "metadata": {},
     "output_type": "display_data"
    },
    {
     "name": "stdout",
     "output_type": "stream",
     "text": [
      "\n",
      "      Unnamed: 0        date        open        high         low       close  \\\n",
      "0              0  1999-11-18   32.546494   35.765381   28.612303   31.473534   \n",
      "1              1  1999-11-19   30.713518   30.758226   28.478184   28.880545   \n",
      "2              2  1999-11-22   29.551144   31.473534   28.657009   31.473534   \n",
      "3              3  1999-11-23   30.400572   31.205294   28.612303   28.612303   \n",
      "4              4  1999-11-24   28.701717   29.998213   28.612303   29.372318   \n",
      "...          ...         ...         ...         ...         ...         ...   \n",
      "5635        5635  2022-04-12  131.690002  132.190002  125.029999  125.389999   \n",
      "5636        5636  2022-04-13  125.260002  128.529999  124.910004  128.289993   \n",
      "5637        5637  2022-04-14  128.419998  128.960007  125.570000  126.440002   \n",
      "5638        5638  2022-04-18  126.440002  126.750000  123.129997  123.839996   \n",
      "5639        5639  2022-04-19  123.709999  126.830002  123.699997  126.529999   \n",
      "\n",
      "       adj close    volume  \n",
      "0      27.024153  62546380  \n",
      "1      24.797733  15234146  \n",
      "2      27.024153   6577870  \n",
      "3      24.567413   5975611  \n",
      "4      25.219986   4843231  \n",
      "...          ...       ...  \n",
      "5635  125.389999   2657500  \n",
      "5636  128.289993   2735900  \n",
      "5637  126.440002   3360200  \n",
      "5638  123.839996   1597100  \n",
      "5639  126.529999   1580000  \n",
      "\n",
      "[5640 rows x 8 columns]\n"
     ]
    },
    {
     "data": {
      "text/plain": [
       "<__main__.Temp at 0x7f4f081f8050>"
      ]
     },
     "execution_count": 76,
     "metadata": {},
     "output_type": "execute_result"
    }
   ],
   "source": [
    "# import torch\n",
    "# from torch.utils.data import Dataset, ConcatDataset, DataLoader\n",
    "\n",
    "def load_raw_data(root_path, max_num_stocks=-1):\n",
    "    \"\"\" root_path: path to dir containing cleaned .csv's\n",
    "        returns a list of df's\n",
    "    \"\"\"\n",
    "    files = sorted(glob.glob(f'{root_path}/*.csv'))\n",
    "    files = files[:max_num_stocks] if max_num_stocks > 0 else files\n",
    "    dfs_raw = []\n",
    "    \n",
    "    pbar = tqdm(files)\n",
    "    for file_path in pbar:\n",
    "        df_raw = pd.read_csv(file_path)\n",
    "        assert not df_raw.isnull().any().any(), 'data should already be imputed'\n",
    "        dfs_raw.append(df_raw)\n",
    "        pbar.set_description(f'{os.path.basename(file_path)}')\n",
    "    \n",
    "    assert len(dfs_raw)\n",
    "    return dfs_raw\n",
    "\n",
    "\n",
    "def cutoff_dates(all_dates, split_sizes=[0.9,.05,.05]):\n",
    "    \"\"\" Determines dates for a temporal split according to split_sizes.\n",
    "        all_dates: list of dataframes with a 'date' column.\n",
    "        returns date ranges for train, val, test.\n",
    "    \"\"\"\n",
    "    all_dates = pd.concat(all_dates)\n",
    "    all_dates['date'] = pd.to_datetime(all_dates['date'])\n",
    "    all_dates.sort_values(by=['date'], inplace=True, ascending=True)\n",
    "    all_dates.reset_index(drop=True, inplace=True)\n",
    "    n = len(all_dates)\n",
    "    # train - val - test\n",
    "    train_start = 0\n",
    "    train_end = val_start = train_start + int(n * split_sizes[0])  # excl                           \n",
    "    val_end = test_start = val_start + int(n * split_sizes[1])\n",
    "    test_end = min(test_start + int(n * split_sizes[2]), n-1)\n",
    "\n",
    "    date_start = [all_dates.date.iloc[idx] for idx in [train_start, val_start, test_start]]\n",
    "    date_end = [all_dates.date.iloc[idx] for idx in [train_end, val_end, test_end]]\n",
    "\n",
    "    return date_start, date_end\n",
    "\n",
    "\n",
    "def time_features(dates, freq=\"t\"):\n",
    "    \"\"\"\n",
    "    > `time_features` takes in a `dates` dataframe with a 'date' column and extracts the date down to `freq` where freq can be any of the following:\n",
    "    > * m - [year, month]\n",
    "    > * w - [year, month]\n",
    "    > * d - [year, month, day, weekday]\n",
    "    > * b - [year, month, day, weekday]\n",
    "    > * h - [year, month, day, weekday, hour]\n",
    "    > * t - [year, month, day, weekday, hour, minute]    \n",
    "    \"\"\"\n",
    "    dates['date'] = pd.to_datetime(dates['date'])\n",
    "    dates[\"year\"] = dates.date.apply(lambda row: row.year, 1)\n",
    "    dates[\"month\"] = dates.date.apply(lambda row: row.month, 1)\n",
    "    dates[\"day\"] = dates.date.apply(lambda row: row.day, 1)\n",
    "    dates[\"weekday\"] = dates.date.apply(lambda row: row.weekday(), 1)\n",
    "    dates[\"hour\"] = dates.date.apply(lambda row: row.hour, 1)\n",
    "    dates[\"minute\"] = dates.date.apply(lambda row: row.minute, 1)\n",
    "    freq_map = {\n",
    "        \"y\": [\"year\"],\n",
    "        \"m\": [\"year\", \"month\"],\n",
    "        \"w\": [\"year\", \"month\"],\n",
    "        \"d\": [\"year\", \"month\", \"day\", \"weekday\"],\n",
    "        \"b\": [\"year\", \"month\", \"day\", \"weekday\"],\n",
    "        \"h\": [\"year\", \"month\", \"day\", \"weekday\", \"hour\"],\n",
    "        \"t\": [\"year\", \"month\", \"day\", \"weekday\", \"hour\", \"minute\"],\n",
    "    }\n",
    "    return dates[freq_map[freq.lower()]]\n",
    "\n",
    "\n",
    "class StandardScaler:\n",
    "    def __init__(self, epsilon=1e-5):\n",
    "        self.mean = 0.0\n",
    "        self.std = 1.0\n",
    "        self.epsilon = epsilon\n",
    "\n",
    "    def fit(self, data):\n",
    "        self.mean = data.mean(0)\n",
    "        self.std = data.std(0).clip(min=self.epsilon)\n",
    "\n",
    "    def transform(self, data):\n",
    "        mean = (\n",
    "            torch.from_numpy(self.mean).type_as(data).to(data.device)\n",
    "            if torch.is_tensor(data)\n",
    "            else self.mean\n",
    "        )\n",
    "        std = (\n",
    "            torch.from_numpy(self.std).type_as(data).to(data.device)\n",
    "            if torch.is_tensor(data)\n",
    "            else self.std\n",
    "        )\n",
    "        return (data - mean) / std\n",
    "\n",
    "    def inverse_transform(self, data):\n",
    "        mean = (\n",
    "            torch.from_numpy(self.mean).type_as(data).to(data.device)\n",
    "            if torch.is_tensor(data)\n",
    "            else self.mean\n",
    "        )\n",
    "        std = (\n",
    "            torch.from_numpy(self.std).type_as(data).to(data.device)\n",
    "            if torch.is_tensor(data)\n",
    "            else self.std\n",
    "        )\n",
    "        return (data * std) + mean\n",
    "\n",
    "\n",
    "class StockDataset(Dataset):\n",
    "    def __init__(\n",
    "        self,\n",
    "        cutoffs,                     # datetime ranges (temporal split)\n",
    "        flag=\"train\",                # data split\n",
    "        size=None,                   # [context_len, pred_len]            \n",
    "        target=\"close\",\n",
    "        mode='diff',                 # instead of predicting target, forecast difference from most recent target\n",
    "        freq=\"t\",\n",
    "        cols=['year', 'month', 'day', 'weekday', 'hour', 'minute', \n",
    "              'high', 'low', 'open', 'close', 'volume', 'return'], # numeric features used for prediction\n",
    "    ):\n",
    "        # size [seq_len, pred_len]\n",
    "        if size == None:\n",
    "            self.seq_len = 512-7\n",
    "            self.pred_len = 7\n",
    "        else:\n",
    "            self.seq_len = size[0]\n",
    "            self.pred_len = size[-1]\n",
    "        \n",
    "        type_map = {\"train\": 0, \"val\": 1, \"test\": 2}\n",
    "        self.set_type = type_map[flag]\n",
    "        \n",
    "        self.cutoffs = cutoffs     \n",
    "        self.target = target\n",
    "        self.mode = mode\n",
    "        self.freq = freq\n",
    "        self.cols = cols\n",
    "    \n",
    "    def process_columns(self, df_raw):\n",
    "        # some other targets that might generalize better\n",
    "        close = df_raw['close']\n",
    "        prev_close = close.shift()\n",
    "        df_raw['return'] = (close - prev_close) / prev_close.clip(lower=1e-4)\n",
    "        df_raw = df_raw.dropna(inplace=True)\n",
    "        \n",
    "        # incude time info\n",
    "        df_time = time_features(df_raw[[\"date\"]].copy(), freq=self.freq)\n",
    "        df_raw = pd.concat([df_raw, df_time], axis=1)\n",
    "                \n",
    "        # select features\n",
    "        cols = self.cols.copy()\n",
    "        cols.remove(self.target)\n",
    "        return df_raw[cols + [self.target]]\n",
    "    \n",
    "    def borders(self, df):\n",
    "        start_date, end_date = self.cutoffs\n",
    "        num_train, num_val, num_test = [\n",
    "            pd.to_datetime(df['date']).between(start_date[i], end_date[i], inclusive='left').sum() \n",
    "            for i in range(3)\n",
    "        ]\n",
    "        # temporal split : [train, val, test]\n",
    "        start_idx = [0,         num_train - self.seq_len, len(df_raw) - num_test - self.seq_len]\n",
    "        end_idx =   [num_train, num_train + num_val,      len(df_raw)]\n",
    "        return start_idx, end_idx\n",
    "    \n",
    "    def get_split_data(self, df, set_type=0):\n",
    "        border1s, border2s = self.borders(df)\n",
    "        border1 = border1s[set_type]    # split start \n",
    "        border2 = border2s[set_type]    # split end\n",
    "        return df[border1 : border2]\n",
    "        \n",
    "    def prepare_data(self, df, scalar=None):\n",
    "        df_data = self.get_split_data(df, self.set_type)\n",
    "        \n",
    "        if scaler is not None:\n",
    "            data = scaler.transform(df_data.values)\n",
    "        else:\n",
    "            data = df_data.values\n",
    "        \n",
    "        self.data_x = data           # input\n",
    "        self.data_y = data[:, -1:]   # target : rightmost col\n",
    "\n",
    "    def __getitem__(self, index):\n",
    "        # seq_x: sb -----sl----------- se 0 ---pl--- 0\n",
    "        #                      seq_y:  se   ---pl--- re\n",
    "        s_begin = index\n",
    "        s_end = s_begin + self.seq_len\n",
    "        r_end = s_end + self.pred_len\n",
    "\n",
    "        seq_x = self.data_x[s_begin:s_end]\n",
    "        seq_x = np.concatenate(\n",
    "            [seq_x, np.zeros((self.pred_len, self.data_x.shape[-1]))], axis=0\n",
    "        )\n",
    "        \n",
    "        if self.mode == 'diff':        \n",
    "            assert self.target in self.cols\n",
    "            # difference from last known target\n",
    "            seq_y = self.data_y[s_end:r_end] - self.data_y[s_end-1]\n",
    "        else:\n",
    "            seq_y = self.data_y[s_end:r_end]\n",
    "        \n",
    "        seq_x = seq_x.astype(np.float32)\n",
    "        seq_y = seq_y.astype(np.float32)\n",
    "        \n",
    "        return torch.tensor(seq_x), torch.tensor(seq_y)  # [sl+pl,features], [pl,1]\n",
    "\n",
    "    def __len__(self):\n",
    "        return len(self.data_x) - self.seq_len - self.pred_len + 1\n",
    "\n",
    "    def inverse_transform(self, data, scalar):\n",
    "        return scaler.inverse_transform(data)\n",
    "\n",
    "    @property\n",
    "    def d_input(self):\n",
    "        return self.data_x.shape[-1]\n",
    "\n",
    "    @property\n",
    "    def d_output(self):\n",
    "        return self.data_y.shape[-1]\n",
    "\n",
    "    \n",
    "class StocksDataset(ConcatDataset):\n",
    "    def __init__(self, dfs_raw, **kwargs):\n",
    "        split = kwargs['flag']\n",
    "        \n",
    "        # determine datetime ranges for a temporal data split\n",
    "        cutoffs = cutoff_dates([dfs_raw[['date']] for df in dfs_raw])\n",
    "        \n",
    "        # add additional features\n",
    "        stock = StockDataset(cutoffs, **kwargs)\n",
    "        dfs_raw = list(map(stock.process_columns, dfs_raw))\n",
    "        \n",
    "        # train a scalar\n",
    "        train_data = pd.concat([stock.get_split_data(df, 0) for df in dfs_raw])\n",
    "        scaler = StandardScaler()\n",
    "        scaler.fit(train_data.values)\n",
    "        \n",
    "        datasets = []\n",
    "        for df in tqdm(dfs_raw, desc=f\"{split}\"):\n",
    "            try:\n",
    "                ds = StockDataset(cutoffs, **kwargs)\n",
    "                ds.prepare_data(df, scalar)\n",
    "                if not len(ds): continue\n",
    "            except ValueError:\n",
    "                continue\n",
    "            datasets.append(ds)  \n",
    "            # note: its possible a stock can appear in train but not in test\n",
    "        \n",
    "        super().__init__(datasets)\n",
    "        print(f'\\n {split} set size : {len(self)} \\n'.upper())\n",
    "    \n",
    "    @property\n",
    "    def d_input(self):\n",
    "        return self.datasets[0].d_input\n",
    "\n",
    "    @property\n",
    "    def d_output(self):\n",
    "        return self.datasets[0].d_output\n",
    "    \n",
    "    @property\n",
    "    def pred_len(self):\n",
    "        return self.datasets[0].pred_len\n",
    "\n",
    "\n",
    "\n",
    "class Temp:\n",
    "    def __init__(self):\n",
    "        \n",
    "        init_defaults = {\n",
    "            \"data_dir\": '../../../../data/stock/day/',\n",
    "            \"max_num_stocks\": 10,\n",
    "            \"size\": [512-7],   # next 7d forecast based on past 505d\n",
    "            \"target\": \"close\",\n",
    "            \"scale\": True,\n",
    "            \"mode\": 'diff',\n",
    "            \"freq\": \"t\",\n",
    "            \"cols\": ['year', 'month', 'day', 'weekday', 'high', 'low', 'open', 'close', 'volume', 'return'],\n",
    "        }\n",
    "        \n",
    "        self.__dict__.update(init_defaults)\n",
    "        \n",
    "        # load cleaned data\n",
    "        dfs_raw = load_raw_data(self.data_dir, self.max_num_stocks)\n",
    "        \n",
    "        \n",
    "        self.dataset_train = self._dataset_cls(\n",
    "            dfs_raw,\n",
    "            flag=\"train\",\n",
    "            size=self.size,\n",
    "            target=self.target,\n",
    "            scale=self.scale,\n",
    "            mode=self.mode,\n",
    "            freq=self.freq,\n",
    "            cols=self.cols,\n",
    "        )\n",
    "\n",
    "        return \n",
    "    \n",
    "        self.dataset_val = self._dataset_cls(\n",
    "            dfs_raw,\n",
    "            flag=\"val\",\n",
    "            size=self.size,\n",
    "            target=self.target,\n",
    "            scale=self.scale,\n",
    "            mode=self.mode,\n",
    "            freq=self.freq,\n",
    "            cols=self.cols,\n",
    "        )\n",
    "\n",
    "        self.dataset_test = self._dataset_cls(\n",
    "            dfs_raw,\n",
    "            flag=\"test\",\n",
    "            size=self.size,\n",
    "            target=self.target,\n",
    "            scale=self.scale,\n",
    "            mode=self.mode,\n",
    "            freq=self.freq,\n",
    "            cols=self.cols,\n",
    "        )\n",
    "\n",
    "Temp()"
   ]
  },
  {
   "cell_type": "code",
   "execution_count": null,
   "metadata": {},
   "outputs": [],
   "source": []
  }
 ],
 "metadata": {
  "kernelspec": {
   "display_name": "Python 3 (ipykernel)",
   "language": "python",
   "name": "python3"
  },
  "language_info": {
   "codemirror_mode": {
    "name": "ipython",
    "version": 3
   },
   "file_extension": ".py",
   "mimetype": "text/x-python",
   "name": "python",
   "nbconvert_exporter": "python",
   "pygments_lexer": "ipython3",
   "version": "3.7.12"
  }
 },
 "nbformat": 4,
 "nbformat_minor": 4
}
